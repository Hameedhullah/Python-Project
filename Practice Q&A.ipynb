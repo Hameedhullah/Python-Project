{
 "cells": [
  {
   "cell_type": "raw",
   "id": "977d5dc9-d5e9-4186-afc8-9d6e19db7281",
   "metadata": {},
   "source": [
    "Question 1 - Write a Python program to reverse a string without using any built-in string reversal functions."
   ]
  },
  {
   "cell_type": "code",
   "execution_count": 5,
   "id": "5a1b9c1f-4e2b-43ec-88ce-62f4eb57c254",
   "metadata": {},
   "outputs": [
    {
     "name": "stdout",
     "output_type": "stream",
     "text": [
      "The reverse string is: mah si eman yM\n"
     ]
    }
   ],
   "source": [
    "name = 'My name is ham'\n",
    "print('The reverse string is:',name[::-1])"
   ]
  },
  {
   "cell_type": "raw",
   "id": "52d11f1d-0ebe-4132-bb02-f00dc3900b64",
   "metadata": {},
   "source": [
    "Question 2 - Write a Python program that takes a user input and prints it."
   ]
  },
  {
   "cell_type": "code",
   "execution_count": 9,
   "id": "00446f6c-95fc-4ed0-a55e-fbd535d0ac59",
   "metadata": {},
   "outputs": [
    {
     "name": "stdin",
     "output_type": "stream",
     "text": [
      "Enter a word:  ant\n"
     ]
    },
    {
     "name": "stdout",
     "output_type": "stream",
     "text": [
      "Your entered word is ant\n"
     ]
    }
   ],
   "source": [
    "word = input(\"Enter a word: \")\n",
    "print('Your entered word is',word)"
   ]
  },
  {
   "cell_type": "raw",
   "id": "29d97d60-f919-45e0-a7fd-9d4f0b44680b",
   "metadata": {},
   "source": [
    "Question 3 - Write a Python program to check if a number is positive, negative, or zero."
   ]
  },
  {
   "cell_type": "code",
   "execution_count": 12,
   "id": "c1dbb6e0-fe5b-40c7-b5c4-d0e9274359e8",
   "metadata": {},
   "outputs": [
    {
     "name": "stdin",
     "output_type": "stream",
     "text": [
      "Enter the number:  0\n"
     ]
    },
    {
     "name": "stdout",
     "output_type": "stream",
     "text": [
      "The number is zero\n"
     ]
    }
   ],
   "source": [
    "number = int(input(\"Enter the number: \"))\n",
    "if number == 0:\n",
    "    print(\"The number is zero\")\n",
    "elif number > 0:\n",
    "    print(\"The number is positive\")\n",
    "else:\n",
    "    print(\"The number is negative\")"
   ]
  },
  {
   "cell_type": "raw",
   "id": "b294f6ed-f4e1-4676-bc74-0a83b92e8b0e",
   "metadata": {},
   "source": [
    "Question 4 - Write a Python program to find the largest of numbers."
   ]
  },
  {
   "cell_type": "code",
   "execution_count": 7,
   "id": "2abe6e50-4065-4207-8477-539339a3e809",
   "metadata": {},
   "outputs": [
    {
     "name": "stdout",
     "output_type": "stream",
     "text": [
      "25\n"
     ]
    }
   ],
   "source": [
    "x = [13,25,17,5,3,10,12,9]\n",
    "print(max(x))"
   ]
  },
  {
   "cell_type": "raw",
   "id": "3b63398d-d0a8-4606-92df-5653c74e8e76",
   "metadata": {},
   "source": [
    "Question 5 - Write a Python program to swap the values of two variables."
   ]
  },
  {
   "cell_type": "code",
   "execution_count": 8,
   "id": "755b6217-1752-43ca-8395-4d6b06dbdd66",
   "metadata": {},
   "outputs": [
    {
     "name": "stdout",
     "output_type": "stream",
     "text": [
      "Before swap value of a: 10\n",
      "Before swap value of b: 100\n",
      "After swap value of a: 100\n",
      "After swap value of b: 10\n"
     ]
    }
   ],
   "source": [
    "a = 10\n",
    "b = 100\n",
    "print('Before swap value of a:',a)\n",
    "print('Before swap value of b:',b)\n",
    "a,b = b,a\n",
    "print('After swap value of a:',a)\n",
    "print('After swap value of b:',b)"
   ]
  },
  {
   "cell_type": "raw",
   "id": "b79e83c4-f40a-4a74-ad56-1a65e801a353",
   "metadata": {},
   "source": [
    "Question 6 - Write a Python program to convert Celsius to Fahrenheit."
   ]
  },
  {
   "cell_type": "code",
   "execution_count": 12,
   "id": "8e532d3f-35f4-4b0f-807d-6845394188b6",
   "metadata": {},
   "outputs": [
    {
     "name": "stdin",
     "output_type": "stream",
     "text": [
      "Enter the celsius:  10.3\n"
     ]
    },
    {
     "name": "stdout",
     "output_type": "stream",
     "text": [
      "50.54\n"
     ]
    }
   ],
   "source": [
    "Celsius = float(input(\"Enter the celsius: \"))\n",
    "Farenheit = (Celsius * (9/5))+32\n",
    "print(round(Farenheit,2)) "
   ]
  },
  {
   "cell_type": "raw",
   "id": "42da9c74-fc38-4759-a273-1e048aa49fa5",
   "metadata": {},
   "source": [
    "Question 7 - Write a Python program to concatenate two strings."
   ]
  },
  {
   "cell_type": "code",
   "execution_count": 15,
   "id": "75cffb3c-0512-492f-a9fb-ad762cf35df9",
   "metadata": {},
   "outputs": [
    {
     "name": "stdin",
     "output_type": "stream",
     "text": [
      "Choose the dress name:  shirt\n",
      "Choose the color:  blue\n"
     ]
    },
    {
     "name": "stdout",
     "output_type": "stream",
     "text": [
      "blue shirt\n"
     ]
    }
   ],
   "source": [
    "dress = input(\"Choose the dress name: \")\n",
    "color = input(\"Choose the color: \")\n",
    "print(color+ ' '+dress)"
   ]
  },
  {
   "cell_type": "raw",
   "id": "9c739261-abc8-4bef-8620-aa029b53018d",
   "metadata": {},
   "source": [
    "Question 8 - Write a Python program to check if a variable is of a specific data type"
   ]
  },
  {
   "cell_type": "code",
   "execution_count": 18,
   "id": "0b138eb7-9bfa-408f-9422-96fb974e591f",
   "metadata": {},
   "outputs": [
    {
     "name": "stdout",
     "output_type": "stream",
     "text": [
      "<class 'int'>\n",
      "<class 'str'>\n",
      "<class 'bool'>\n",
      "<class 'tuple'>\n"
     ]
    }
   ],
   "source": [
    "i = 123\n",
    "print(type(i))\n",
    "\n",
    "name = 'ham'\n",
    "print(type(name))\n",
    "\n",
    "z = True\n",
    "print(type(z))\n",
    "\n",
    "val = (123,'con',23,5)\n",
    "print(type(val))"
   ]
  },
  {
   "cell_type": "raw",
   "id": "a441700d-a6d0-4d99-9cad-1922efda6cbd",
   "metadata": {},
   "source": [
    "Question 9 - Write a Python program to perform arithmetic operations: addition, subtraction, multiplication, and division."
   ]
  },
  {
   "cell_type": "code",
   "execution_count": 27,
   "id": "c2d4993f-76e1-416b-83bc-d6eaa1a1c421",
   "metadata": {},
   "outputs": [
    {
     "name": "stdin",
     "output_type": "stream",
     "text": [
      "Enter the number:  1000\n",
      "Enter the number:  25\n",
      "Select the operation:  /\n"
     ]
    },
    {
     "name": "stdout",
     "output_type": "stream",
     "text": [
      "The division of two number is:40.0\n"
     ]
    }
   ],
   "source": [
    "n1 = int(input(\"Enter the number: \"))\n",
    "n2 = int(input(\"Enter the number: \"))\n",
    "symbol = input(\"Select the operation: \")\n",
    "if symbol == '+':\n",
    "    print(f\"The sum of two number is:{n1+n2}\")\n",
    "elif symbol == '-':\n",
    "    print(f\"The subtract of two number is:{n2-n1}\")\n",
    "elif symbol == '*':\n",
    "    print(f\"The product of two number is:{n1*n2}\")\n",
    "elif symbol == '/':\n",
    "    print(f\"The division of two number is:{n1/n2}\")\n",
    "else:\n",
    "    print(\"The operation is not available in it\")"
   ]
  },
  {
   "cell_type": "raw",
   "id": "62690640-8cc5-4b0d-86f8-bb258e289895",
   "metadata": {},
   "source": [
    "Question 10 - Write a Python program to calculate the square of a number."
   ]
  },
  {
   "cell_type": "code",
   "execution_count": 33,
   "id": "546fca06-0a80-47c9-a36a-b062ddf22c60",
   "metadata": {},
   "outputs": [
    {
     "name": "stdin",
     "output_type": "stream",
     "text": [
      "Enter the number:  14\n"
     ]
    },
    {
     "name": "stdout",
     "output_type": "stream",
     "text": [
      "Square of 14 is :196\n"
     ]
    }
   ],
   "source": [
    "n = int(input(\"Enter the number: \"))\n",
    "print(f\"Square of {n} is :{n*n}\")"
   ]
  },
  {
   "cell_type": "raw",
   "id": "d1691dbc-7030-4ed0-82d3-ea7834342769",
   "metadata": {},
   "source": [
    "Question 11 - Write a Python program to check if a number is even or odd."
   ]
  },
  {
   "cell_type": "code",
   "execution_count": 36,
   "id": "2b83d3fe-f0c0-4ed3-9a91-368a15203ff2",
   "metadata": {},
   "outputs": [
    {
     "name": "stdin",
     "output_type": "stream",
     "text": [
      "Enter the number:  103\n"
     ]
    },
    {
     "name": "stdout",
     "output_type": "stream",
     "text": [
      "The number 103 is Odd number\n"
     ]
    }
   ],
   "source": [
    "n = int(input(\"Enter the number: \"))\n",
    "if n%2 == 0:\n",
    "    print(f\"The number {n} is Even number\")\n",
    "else:\n",
    "    print(f\"The number {n} is Odd number\")"
   ]
  },
  {
   "cell_type": "raw",
   "id": "51b06aec-c426-43ba-a50a-e4bae9646d77",
   "metadata": {},
   "source": [
    "Question 12 - Write a Python program to find the sum of the first n natural numbers."
   ]
  },
  {
   "cell_type": "code",
   "execution_count": 5,
   "id": "4ba0ed39-d62d-473f-af61-a3f2f8e19764",
   "metadata": {},
   "outputs": [
    {
     "name": "stdin",
     "output_type": "stream",
     "text": [
      "Enter the number:  100\n"
     ]
    },
    {
     "name": "stdout",
     "output_type": "stream",
     "text": [
      "The sum of 100 natural number is 5050.0\n"
     ]
    }
   ],
   "source": [
    "n = int(input(\"Enter the number: \"))\n",
    "total = 0\n",
    "for i in range(0,n+1):\n",
    "    total = (i*(i+1))/2\n",
    "print(f\"The sum of {n} natural number is\", total)"
   ]
  },
  {
   "cell_type": "raw",
   "id": "c1d51327-8a2b-4d74-b3cb-f72f82205456",
   "metadata": {},
   "source": [
    "Question 13 - Write a Python program to check if a year is a leap year."
   ]
  },
  {
   "cell_type": "code",
   "execution_count": 12,
   "id": "4d52d8a3-29b8-4520-a519-75a5f9acd764",
   "metadata": {},
   "outputs": [
    {
     "name": "stdin",
     "output_type": "stream",
     "text": [
      "Enter the year -  2022\n"
     ]
    },
    {
     "name": "stdout",
     "output_type": "stream",
     "text": [
      "2022 is not a leap year\n"
     ]
    }
   ],
   "source": [
    "year = int(input(\"Enter the year - \"))\n",
    "if (year%4 == 0 and year%100 != 0) or (year%400 == 0):\n",
    "    print(f\"{year} is a leap year\")\n",
    "else:\n",
    "    print(f\"{year} is not a leap year\")"
   ]
  },
  {
   "cell_type": "raw",
   "id": "414209f4-4e37-4226-954a-b1957b4b7bf3",
   "metadata": {},
   "source": [
    "Question 14 - Write a program that asks the user to input a number and prints whether the number is positive and even, positive and odd, or negative."
   ]
  },
  {
   "cell_type": "code",
   "execution_count": 20,
   "id": "d48382e3-734a-4b7c-aa8a-ce1f7ea24ef5",
   "metadata": {},
   "outputs": [
    {
     "name": "stdin",
     "output_type": "stream",
     "text": [
      "Enter the number:  0\n"
     ]
    },
    {
     "name": "stdout",
     "output_type": "stream",
     "text": [
      "The number is 0\n"
     ]
    }
   ],
   "source": [
    "number = int(input(\"Enter the number: \"))\n",
    "if number == 0:\n",
    "    print(\"The number is 0\")\n",
    "elif number > 0:\n",
    "    if number%2 == 0:\n",
    "        print(f\"The {number} is Positive and Even\")\n",
    "    else:\n",
    "        print(f\"The {number} is Positive and Odd\")\n",
    "else:\n",
    "    print(f\"The {number} is negative\")"
   ]
  },
  {
   "cell_type": "raw",
   "id": "d0eccdbb-0c24-4d73-b041-0fc05fbb3cef",
   "metadata": {},
   "source": [
    "Question 15 - Write a program that prints all the numbers from 1 to 10 using a for loop."
   ]
  },
  {
   "cell_type": "code",
   "execution_count": 23,
   "id": "8205997a-4380-429e-b4e0-b08ca337915a",
   "metadata": {},
   "outputs": [
    {
     "name": "stdout",
     "output_type": "stream",
     "text": [
      "1,2,3,4,5,6,7,8,9,10,"
     ]
    }
   ],
   "source": [
    "for i in range(1,11):\n",
    "    print(i, end = ',')"
   ]
  },
  {
   "cell_type": "code",
   "execution_count": null,
   "id": "84bb46d0-ca0b-4857-a2e4-337948159910",
   "metadata": {},
   "outputs": [],
   "source": [
    "Question 15Write a program that prints all the numbers from 1 to 10 using a while loop."
   ]
  },
  {
   "cell_type": "code",
   "execution_count": null,
   "id": "1d55a482-a921-4010-9a2f-a3e6d7f23133",
   "metadata": {},
   "outputs": [],
   "source": []
  },
  {
   "cell_type": "code",
   "execution_count": null,
   "id": "31e9ba4c-e756-4228-b64c-65385545d240",
   "metadata": {},
   "outputs": [],
   "source": []
  },
  {
   "cell_type": "code",
   "execution_count": null,
   "id": "78390518-9f3a-4c29-83b8-1dfede551459",
   "metadata": {},
   "outputs": [],
   "source": []
  },
  {
   "cell_type": "code",
   "execution_count": null,
   "id": "fbe3fb97-da0b-4740-aa67-955825313737",
   "metadata": {},
   "outputs": [],
   "source": []
  },
  {
   "cell_type": "code",
   "execution_count": null,
   "id": "6a817221-4e65-429a-b4d7-b96a2a614a3a",
   "metadata": {},
   "outputs": [],
   "source": []
  },
  {
   "cell_type": "code",
   "execution_count": null,
   "id": "41f168bc-a63b-47f8-a47b-c5eda2a467a9",
   "metadata": {},
   "outputs": [],
   "source": []
  },
  {
   "cell_type": "code",
   "execution_count": null,
   "id": "443a4fb7-0488-44b3-9199-6afad988ed4b",
   "metadata": {},
   "outputs": [],
   "source": []
  },
  {
   "cell_type": "code",
   "execution_count": null,
   "id": "5fedb3c4-6664-4c5b-a53f-5a56c4ddaabc",
   "metadata": {},
   "outputs": [],
   "source": []
  }
 ],
 "metadata": {
  "kernelspec": {
   "display_name": "Python 3 (ipykernel)",
   "language": "python",
   "name": "python3"
  },
  "language_info": {
   "codemirror_mode": {
    "name": "ipython",
    "version": 3
   },
   "file_extension": ".py",
   "mimetype": "text/x-python",
   "name": "python",
   "nbconvert_exporter": "python",
   "pygments_lexer": "ipython3",
   "version": "3.10.8"
  }
 },
 "nbformat": 4,
 "nbformat_minor": 5
}
